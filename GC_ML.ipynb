{
  "cells": [
    {
      "cell_type": "markdown",
      "metadata": {
        "id": "view-in-github",
        "colab_type": "text"
      },
      "source": [
        "<a href=\"https://colab.research.google.com/github/Raghu-vamsi-pav/Car-price-prediction-using-Cardheko-Dataset-End-to-End/blob/main/GC_ML.ipynb\" target=\"_parent\"><img src=\"https://colab.research.google.com/assets/colab-badge.svg\" alt=\"Open In Colab\"/></a>"
      ]
    },
    {
      "cell_type": "code",
      "source": [
        "import numpy as np\n",
        "import pandas as pd\n",
        "import matplotlib.pyplot as plt"
      ],
      "metadata": {
        "id": "KCniJ_u2WWTM"
      },
      "execution_count": 1,
      "outputs": []
    },
    {
      "cell_type": "code",
      "source": [
        "from google.colab import drive\n",
        "drive.mount('/content/drive')"
      ],
      "metadata": {
        "id": "c2c6MWC8geFU",
        "outputId": "cd923561-4bcd-4ed0-f7b7-450018ae3edf",
        "colab": {
          "base_uri": "https://localhost:8080/"
        }
      },
      "execution_count": 2,
      "outputs": [
        {
          "output_type": "stream",
          "name": "stdout",
          "text": [
            "Mounted at /content/drive\n"
          ]
        }
      ]
    },
    {
      "cell_type": "code",
      "source": [
        "dataset=pd.read_csv(\"/content/drive/MyDrive/GC ml hackathon/training_set.csv\")\n",
        "x=dataset.iloc[:,2:-1].values\n",
        "y=dataset.iloc[:,-1].values"
      ],
      "metadata": {
        "id": "CtQBo5bXYh8m"
      },
      "execution_count": 3,
      "outputs": []
    },
    {
      "cell_type": "code",
      "source": [
        ""
      ],
      "metadata": {
        "id": "uRz8CiQ5pOKr"
      },
      "execution_count": null,
      "outputs": []
    },
    {
      "cell_type": "code",
      "source": [
        "from imblearn.over_sampling import SMOTE\n",
        "sm = SMOTE(sampling_strategy='minority')\n",
        "x, y = sm.fit_resample(x, y)"
      ],
      "metadata": {
        "id": "x_pXWSu7fuz8"
      },
      "execution_count": 4,
      "outputs": []
    },
    {
      "cell_type": "code",
      "source": [
        "x.shape"
      ],
      "metadata": {
        "colab": {
          "base_uri": "https://localhost:8080/"
        },
        "id": "u8r2glbQpE_7",
        "outputId": "56589524-7910-4415-d433-dc2c42f4378f"
      },
      "execution_count": 5,
      "outputs": [
        {
          "output_type": "execute_result",
          "data": {
            "text/plain": [
              "(454890, 29)"
            ]
          },
          "metadata": {},
          "execution_count": 5
        }
      ]
    },
    {
      "cell_type": "code",
      "source": [
        "from sklearn.model_selection import train_test_split\n",
        "x_train,x_test,y_train,y_test=train_test_split(x,y,test_size=0.3,random_state=0)"
      ],
      "metadata": {
        "id": "pvPtwwlqZQog"
      },
      "execution_count": 6,
      "outputs": []
    },
    {
      "cell_type": "code",
      "source": [
        ""
      ],
      "metadata": {
        "id": "0ABl4xcijUka"
      },
      "execution_count": 6,
      "outputs": []
    },
    {
      "cell_type": "code",
      "source": [
        "from sklearn.preprocessing import StandardScaler\n",
        "sc=StandardScaler()\n",
        "x_train=sc.fit_transform(x_train)\n",
        "x_test=sc.transform(x_test)"
      ],
      "metadata": {
        "id": "1RGc5Xr9bRBr"
      },
      "execution_count": 7,
      "outputs": []
    },
    {
      "cell_type": "code",
      "source": [
        "#f1scorelgbm=0.999487\n",
        "#f1scoredecisiontree=0.998453\n",
        "\n",
        "\n",
        "# from sklearn.tree import DecisionTreeClassifier\n",
        "# classifier=DecisionTreeClassifier(criterion='entropy')\n",
        "# classifier.fit(x_train,y_train)\n",
        "\n",
        "\"\"\"\n",
        "from xgboost import XGBClassifier\n",
        "\n",
        "classifier=XGBClassifier(max_depth=7, learning_rate=0.1, n_estimators=500, objective='binary:logistic', booster='gbtree')\n",
        "classifier.fit(x_train,y_train)\n",
        "\"\"\"\n",
        "\n"
      ],
      "metadata": {
        "id": "mvvNHoAubb1o"
      },
      "execution_count": null,
      "outputs": []
    },
    {
      "cell_type": "code",
      "source": [
        "from sklearn.svm import SVC\n",
        "\n",
        "classfier = SVC(kernel = \"rbf\", random_state = 43)\n",
        "classfier.fit(x_train,y_train)"
      ],
      "metadata": {
        "colab": {
          "base_uri": "https://localhost:8080/"
        },
        "id": "ygPiA062prb_",
        "outputId": "db0492d5-e097-437b-f83d-06d7dbca78db"
      },
      "execution_count": 9,
      "outputs": [
        {
          "output_type": "execute_result",
          "data": {
            "text/plain": [
              "SVC(random_state=43)"
            ]
          },
          "metadata": {},
          "execution_count": 9
        }
      ]
    },
    {
      "cell_type": "code",
      "source": [
        "y_pred=classfier.predict(x_test)"
      ],
      "metadata": {
        "id": "0kcfs3FyctKt"
      },
      "execution_count": 10,
      "outputs": []
    },
    {
      "cell_type": "code",
      "source": [
        "from sklearn.metrics import f1_score,confusion_matrix\n",
        "cm=confusion_matrix(y_test,y_pred)\n",
        "print(cm)\n",
        "f1_score(y_test,y_pred,average='macro')"
      ],
      "metadata": {
        "id": "IBSHn9vxc2Y5",
        "colab": {
          "base_uri": "https://localhost:8080/"
        },
        "outputId": "a2528be9-636e-4bf0-bc2c-8a66e16a4bc5"
      },
      "execution_count": 11,
      "outputs": [
        {
          "output_type": "stream",
          "name": "stdout",
          "text": [
            "[[68046   374]\n",
            " [  691 67356]]\n"
          ]
        },
        {
          "output_type": "execute_result",
          "data": {
            "text/plain": [
              "0.9921957159808673"
            ]
          },
          "metadata": {},
          "execution_count": 11
        }
      ]
    },
    {
      "cell_type": "code",
      "source": [
        ""
      ],
      "metadata": {
        "id": "sZRfHZiPmHAG"
      },
      "execution_count": null,
      "outputs": []
    }
  ],
  "metadata": {
    "colab": {
      "collapsed_sections": [],
      "name": "GC ML.ipynb",
      "provenance": [],
      "include_colab_link": true
    },
    "kernelspec": {
      "display_name": "Python 3",
      "name": "python3"
    },
    "accelerator": "GPU"
  },
  "nbformat": 4,
  "nbformat_minor": 0
}